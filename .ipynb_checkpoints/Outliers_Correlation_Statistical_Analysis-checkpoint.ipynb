{
 "cells": [
  {
   "cell_type": "code",
   "execution_count": 4,
   "metadata": {},
   "outputs": [],
   "source": [
    "import numpy as np\n",
    "\n",
    "def find_remove_outlier(data_sample):\n",
    "    # calculate summarty stats\n",
    "    data_mean, data_std = np.mean(data_sample), np.std(data_sample)\n",
    "    # define outliers\n",
    "    remove_outliers = data_std * 3\n",
    "    lower, upper = data_mean - remove_outliers, data_mean + remove_outliers\n",
    "    # identify the outliers\n",
    "    outliers = []\n",
    "    outliers_removed = []\n",
    "    for x in data_sample:\n",
    "        if x < lower or x > upper:\n",
    "            outliers.append(x)\n",
    "    for x in data_sample:\n",
    "        if x > lower and x < upper:\n",
    "            outliers_removed.append(x)\n",
    "    return outliers, outliers_removed\n",
    "        "
   ]
  },
  {
   "cell_type": "code",
   "execution_count": 5,
   "metadata": {},
   "outputs": [
    {
     "name": "stderr",
     "output_type": "stream",
     "text": [
      "/anaconda3/lib/python3.7/importlib/_bootstrap.py:219: RuntimeWarning: numpy.ufunc size changed, may indicate binary incompatibility. Expected 192 from C header, got 216 from PyObject\n",
      "  return f(*args, **kwds)\n",
      "/anaconda3/lib/python3.7/importlib/_bootstrap.py:219: RuntimeWarning: numpy.ufunc size changed, may indicate binary incompatibility. Expected 192 from C header, got 216 from PyObject\n",
      "  return f(*args, **kwds)\n"
     ]
    }
   ],
   "source": [
    "import scipy.stats\n",
    "def find_remove_outliers_iqr(data_sample):\n",
    "    q25, q75 = np.percentile(data_sample, 25), np.percentile(data_sample, 75)\n",
    "    \n",
    "    iqr = q75 - q25\n",
    "    print(iqr)\n",
    "    remove_outliers = iqr * 1.5\n",
    "    "
   ]
  },
  {
   "cell_type": "code",
   "execution_count": null,
   "metadata": {},
   "outputs": [],
   "source": []
  }
 ],
 "metadata": {
  "kernelspec": {
   "display_name": "Python 3",
   "language": "python",
   "name": "python3"
  },
  "language_info": {
   "codemirror_mode": {
    "name": "ipython",
    "version": 3
   },
   "file_extension": ".py",
   "mimetype": "text/x-python",
   "name": "python",
   "nbconvert_exporter": "python",
   "pygments_lexer": "ipython3",
   "version": "3.7.3"
  }
 },
 "nbformat": 4,
 "nbformat_minor": 2
}
