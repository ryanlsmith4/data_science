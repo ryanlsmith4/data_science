{
 "cells": [
  {
   "cell_type": "markdown",
   "metadata": {},
   "source": [
    "### Z-TEST"
   ]
  },
  {
   "cell_type": "code",
   "execution_count": 29,
   "metadata": {},
   "outputs": [
    {
     "data": {
      "text/plain": [
       "<matplotlib.axes._subplots.AxesSubplot at 0x1a21f72630>"
      ]
     },
     "execution_count": 29,
     "metadata": {},
     "output_type": "execute_result"
    },
    {
     "data": {
      "image/png": "[encoded data removed]",
      "text/plain": [
       "<Figure size 432x288 with 1 Axes>"
      ]
     },
     "metadata": {
      "needs_background": "light"
     },
     "output_type": "display_data"
    }
   ],
   "source": [
    "import numpy as np\n",
    "import seaborn as sns\n",
    "from scipy.stats import norm\n",
    "\n",
    "\n",
    "mean_X = 60\n",
    "std_X = 10\n",
    "\n",
    "\n",
    "X = np.random.normal(mean_X, std_X, 10000)\n",
    "\n",
    "sns.distplot(X, hist=True, kde=True, bins=20)\n",
    "\n",
    "Z = (x - mean_X) / std_X\n",
    "\n",
    "sns.distplot(Z, hist=True, kde=True, bins=20)"
   ]
  },
  {
   "cell_type": "code",
   "execution_count": 53,
   "metadata": {},
   "outputs": [],
   "source": [
    "def acc_or_rej(mu, sample_mean, significant_level, N, sigma=None):\n",
    "        # Calcualte standard deviation of sampling distribution\n",
    "        sample_std = sigma / np.sqrt(N)\n",
    "        if N >= 30:\n",
    "            # Calculate z-score from propulation mean (mu), sample mean and sample std\n",
    "            z_score = (sample_mean - mu) / sample_std\n",
    "\n",
    "            # Calculate p-value from z-score\n",
    "            p_value = 2 * norm.sf(np.abs(z_score))\n",
    "\n",
    "            # Determine whether to accept or reject null hypothesis\n",
    "            if p_value <= significant_level:\n",
    "                print('Reject null hypothesis')\n",
    "            else:\n",
    "                print('Accept null hypothesis')\n",
    "        else:\n",
    "            t_score = (sample_mean - mu) / np.sqrt(N)\n",
    "\n",
    "            p_value = 2 * norm.sf(np.abs(t_score))\n",
    "\n",
    "            if p_value <= significant_level:\n",
    "                print('Reject null Hypothesis')\n",
    "            else:\n",
    "                print('Accept null Hypothesis')"
   ]
  },
  {
   "cell_type": "code",
   "execution_count": 50,
   "metadata": {},
   "outputs": [
    {
     "name": "stdout",
     "output_type": "stream",
     "text": [
      "Reject null hypothesis\n"
     ]
    }
   ],
   "source": [
    "acc_or_rej(1.2, 1.05, 0.05, 100, 0.5)"
   ]
  },
  {
   "cell_type": "markdown",
   "metadata": {},
   "source": [
    "### t-test"
   ]
  },
  {
   "cell_type": "code",
   "execution_count": 55,
   "metadata": {},
   "outputs": [
    {
     "name": "stdout",
     "output_type": "stream",
     "text": [
      "t-statistc: 2.295568968083183\n",
      "t =  2.295568968083183 , p =  0.04734137339747034\n"
     ]
    }
   ],
   "source": [
    "from scipy import stats\n",
    "import numpy as np\n",
    "\n",
    "x = [177.3, 182.7, 169.6, 176.3, 180.3, 179.4, 178.5, 177.2, 181.8, 176.5]\n",
    "\n",
    "mu = 175.3\n",
    "\n",
    "sample_mean = np.array(x).mean()\n",
    "\n",
    "# Calculate the standard deviation of sample distributuion\n",
    "\n",
    "N = len(x) # number of data samples\n",
    "\n",
    "S = np.array(x).std(ddof=1)\n",
    "den = S /np.sqrt(N)\n",
    "\n",
    "# t -test from formula\n",
    "t = (sample_mean - mu)/den\n",
    "print(\"t-statistc: {}\".format(t))\n",
    "\n",
    "# one sample t-test that gives you the p-value too can be done with scipy as follows:\n",
    "t, p = stats.ttest_1samp(x, mu)\n",
    "print(\"t = \", t, \", p = \", p)"
   ]
  },
  {
   "cell_type": "code",
   "execution_count": 57,
   "metadata": {},
   "outputs": [],
   "source": [
    "def z_t_null_hypothesis(data_sample, mu, sigma, significant_level):\n",
    "    # if sigma is known, calculate using the z-test\n",
    "    if sigma:\n",
    "        z_score = (np.mean(data_sample) -mu)/(sigma/np.sqrt(len(data_sample)))\n",
    "        p = scipy.stats.norm.sf(abs(z_score))*2\n",
    "        # if the data_sample is greater than 30, calculate using the z-test\n",
    "    elif len(data_sample) >= 30:\n",
    "        z_score = (np.mean(data_sample) -mu)/(np.std(data_sample)/np.sqrt(len(data_sample)))\n",
    "        p = scipy.stats.norm.sf(abs(z_score))*2\n",
    "    else:\n",
    "        t, p = stats.ttest_1samp(data_sample, mu)\n",
    "        if p < significant_level:\n",
    "            print(\"reject null hyptothesis\")\n",
    "        else:\n",
    "            print(\"accept Null hypothesis\")\n"
   ]
  },
  {
   "cell_type": "code",
   "execution_count": null,
   "metadata": {},
   "outputs": [],
   "source": []
  }
 ],
 "metadata": {
  "kernelspec": {
   "display_name": "Python 3",
   "language": "python",
   "name": "python3"
  },
  "language_info": {
   "codemirror_mode": {
    "name": "ipython",
    "version": 3
   },
   "file_extension": ".py",
   "mimetype": "text/x-python",
   "name": "python",
   "nbconvert_exporter": "python",
   "pygments_lexer": "ipython3",
   "version": "3.7.3"
  }
 },
 "nbformat": 4,
 "nbformat_minor": 2
}
