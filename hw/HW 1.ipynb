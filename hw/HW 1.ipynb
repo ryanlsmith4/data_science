{
 "cells": [
  {
   "cell_type": "code",
   "execution_count": 135,
   "metadata": {},
   "outputs": [],
   "source": [
    "import pandas as pd\n",
    "import numpy as np\n",
    "import matplotlib.pyplot as plt\n",
    "\n",
    "\n",
    "df = pd.read_csv('titanic.csv')"
   ]
  },
  {
   "cell_type": "markdown",
   "metadata": {},
   "source": [
    "`map` --> Iterate over every element in our data and perform some operation on each element (*NOTE*: Does not change size of data)"
   ]
  },
  {
   "cell_type": "code",
   "execution_count": 136,
   "metadata": {},
   "outputs": [],
   "source": [
    "ages = df[\"Age\"].dropna()\n",
    "\n",
    "def round_up(element):\n",
    "    \"\"\" Function that rounds a float up to the ceiling and casts to an integer. \"\"\"\n",
    "    return int(np.ceil(element))\n",
    "\n",
    "ages = sorted(list(map(round_up, ages)))"
   ]
  },
  {
   "cell_type": "markdown",
   "metadata": {},
   "source": [
    "### Creating Buckets for Data Discretization"
   ]
  },
  {
   "cell_type": "code",
   "execution_count": 137,
   "metadata": {},
   "outputs": [
    {
     "data": {
      "text/plain": [
       "(1, 80)"
      ]
     },
     "execution_count": 137,
     "metadata": {},
     "output_type": "execute_result"
    }
   ],
   "source": [
    "NUM_BUCKETS = 10\n",
    "\n",
    "np.min(ages), np.max(ages)"
   ]
  },
  {
   "cell_type": "markdown",
   "metadata": {},
   "source": [
    "**GOAL**: Uniformly split our range of data (`Age`) into buckets based on `NUM_BUCKETS`"
   ]
  },
  {
   "cell_type": "code",
   "execution_count": 138,
   "metadata": {},
   "outputs": [
    {
     "data": {
      "text/plain": [
       "17"
      ]
     },
     "execution_count": 138,
     "metadata": {},
     "output_type": "execute_result"
    }
   ],
   "source": [
    "ages[100]"
   ]
  },
  {
   "cell_type": "code",
   "execution_count": 139,
   "metadata": {},
   "outputs": [
    {
     "data": {
      "image/png": "[encoded data removed]",
      "text/plain": [
       "<Figure size 1080x720 with 1 Axes>"
      ]
     },
     "metadata": {
      "needs_background": "light"
     },
     "output_type": "display_data"
    }
   ],
   "source": [
    "buckets = list()\n",
    "# range for distance between ages\n",
    "step = int(np.max(ages) / NUM_BUCKETS)\n",
    "# declares the floor and the ceiling of the dataset\n",
    "floor, ceil = np.min(ages), np.min(ages) + step\n",
    "\n",
    "for position in range(NUM_BUCKETS):\n",
    "    current_bucket = range(floor, ceil)\n",
    "    buckets.append(current_bucket)\n",
    "    floor += step; ceil += step\n",
    "    \n",
    "bucket_histogram = dict((bucket, 0) for bucket in buckets)\n",
    "    \n",
    "for age in ages:\n",
    "    for bucket in buckets:\n",
    "        if age in bucket:\n",
    "            bucket_histogram[bucket] += 1\n",
    "\n",
    "plt.figure(figsize=(15, 10))\n",
    "plt.bar(np.arange(NUM_BUCKETS), bucket_histogram.values())\n",
    "\n",
    "# keys = [\"0-10\", \"10-20\"]\n",
    "plt.xticks(np.arange(NUM_BUCKETS), bucket_histogram.keys())\n",
    "plt.show()"
   ]
  },
  {
   "cell_type": "code",
   "execution_count": 140,
   "metadata": {},
   "outputs": [],
   "source": [
    "def create_bucketed_histogram(dataset, feature=\"Age\", buckets=8):\n",
    "    \"\"\" INSERT DOCSTRING HERE. \"\"\""
   ]
  },
  {
   "cell_type": "code",
   "execution_count": 141,
   "metadata": {},
   "outputs": [
    {
     "data": {
      "text/plain": [
       "{0: 22.0,\n",
       " 1: 38.0,\n",
       " 2: 26.0,\n",
       " 3: 35.0,\n",
       " 4: 35.0,\n",
       " 5: 54.0,\n",
       " 6: 2.0,\n",
       " 7: 27.0,\n",
       " 8: 14.0,\n",
       " 9: 4.0,\n",
       " 10: 58.0,\n",
       " 11: 20.0,\n",
       " 12: 39.0,\n",
       " 13: 14.0,\n",
       " 14: 55.0,\n",
       " 15: 2.0}"
      ]
     },
     "execution_count": 141,
     "metadata": {},
     "output_type": "execute_result"
    }
   ],
   "source": [
    "custom_hist(df['Age'].dropna().values, 16)"
   ]
  },
  {
   "cell_type": "code",
   "execution_count": 142,
   "metadata": {},
   "outputs": [],
   "source": [
    "min = np.min(df['Age'])"
   ]
  },
  {
   "cell_type": "code",
   "execution_count": 143,
   "metadata": {},
   "outputs": [],
   "source": [
    "max = np.max(df['Age'])"
   ]
  },
  {
   "cell_type": "code",
   "execution_count": 144,
   "metadata": {},
   "outputs": [],
   "source": [
    "I = np.ceil((max - min) / 16)"
   ]
  },
  {
   "cell_type": "code",
   "execution_count": 145,
   "metadata": {},
   "outputs": [
    {
     "data": {
      "text/plain": [
       "<BarContainer object of 16 artists>"
      ]
     },
     "execution_count": 145,
     "metadata": {},
     "output_type": "execute_result"
    },
    {
     "data": {
      "image/png": "[encoded data removed]",
      "text/plain": [
       "<Figure size 432x288 with 1 Axes>"
      ]
     },
     "metadata": {
      "needs_background": "light"
     },
     "output_type": "display_data"
    }
   ],
   "source": [
    "hist_dict = custom_hist(df['Age'].dropna().values, 16)\n",
    "\n",
    "plt.bar(hist_dict.keys(), hist_dict.values())"
   ]
  },
  {
   "cell_type": "code",
   "execution_count": 146,
   "metadata": {},
   "outputs": [
    {
     "data": {
      "text/plain": [
       "80.0"
      ]
     },
     "execution_count": 146,
     "metadata": {},
     "output_type": "execute_result"
    }
   ],
   "source": [
    "max"
   ]
  },
  {
   "cell_type": "code",
   "execution_count": 147,
   "metadata": {},
   "outputs": [
    {
     "data": {
      "text/plain": [
       "0.42"
      ]
     },
     "execution_count": 147,
     "metadata": {},
     "output_type": "execute_result"
    }
   ],
   "source": [
    "min"
   ]
  }
 ],
 "metadata": {
  "kernelspec": {
   "display_name": "Python 3",
   "language": "python",
   "name": "python3"
  },
  "language_info": {
   "codemirror_mode": {
    "name": "ipython",
    "version": 3
   },
   "file_extension": ".py",
   "mimetype": "text/x-python",
   "name": "python",
   "nbconvert_exporter": "python",
   "pygments_lexer": "ipython3",
   "version": "3.7.3"
  }
 },
 "nbformat": 4,
 "nbformat_minor": 2
}
