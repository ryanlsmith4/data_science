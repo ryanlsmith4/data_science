{
 "cells": [
  {
   "cell_type": "code",
   "execution_count": 12,
   "metadata": {},
   "outputs": [],
   "source": [
    "import numpy as np\n",
    "import pandas as pd\n",
    "import matplotlib.pyplot as plt\n",
    "\n",
    "\n",
    "df = pd.read_csv('studfeedback.csv')"
   ]
  },
  {
   "cell_type": "code",
   "execution_count": 13,
   "metadata": {},
   "outputs": [
    {
     "data": {
      "text/html": [
       "<div>\n",
       "<style scoped>\n",
       "    .dataframe tbody tr th:only-of-type {\n",
       "        vertical-align: middle;\n",
       "    }\n",
       "\n",
       "    .dataframe tbody tr th {\n",
       "        vertical-align: top;\n",
       "    }\n",
       "\n",
       "    .dataframe thead th {\n",
       "        text-align: right;\n",
       "    }\n",
       "</style>\n",
       "<table border=\"1\" class=\"dataframe\">\n",
       "  <thead>\n",
       "    <tr style=\"text-align: right;\">\n",
       "      <th></th>\n",
       "      <th>ID</th>\n",
       "      <th>Location</th>\n",
       "      <th>Track</th>\n",
       "      <th>Week</th>\n",
       "      <th>Rating (Num)</th>\n",
       "      <th>Schedule Pacing</th>\n",
       "    </tr>\n",
       "  </thead>\n",
       "  <tbody>\n",
       "    <tr>\n",
       "      <th>0</th>\n",
       "      <td>134</td>\n",
       "      <td>San Francisco</td>\n",
       "      <td>Apps, Explorer</td>\n",
       "      <td>Week 1</td>\n",
       "      <td>3</td>\n",
       "      <td>Just right</td>\n",
       "    </tr>\n",
       "    <tr>\n",
       "      <th>1</th>\n",
       "      <td>36</td>\n",
       "      <td>Los Angeles</td>\n",
       "      <td>Apps</td>\n",
       "      <td>Week 1</td>\n",
       "      <td>4</td>\n",
       "      <td>A little too fast</td>\n",
       "    </tr>\n",
       "    <tr>\n",
       "      <th>2</th>\n",
       "      <td>117</td>\n",
       "      <td>San Francisco</td>\n",
       "      <td>Games</td>\n",
       "      <td>Week 1</td>\n",
       "      <td>4</td>\n",
       "      <td>Way too slow</td>\n",
       "    </tr>\n",
       "    <tr>\n",
       "      <th>3</th>\n",
       "      <td>253</td>\n",
       "      <td>NaN</td>\n",
       "      <td>NaN</td>\n",
       "      <td>Week 2</td>\n",
       "      <td>4</td>\n",
       "      <td>A little too fast</td>\n",
       "    </tr>\n",
       "    <tr>\n",
       "      <th>4</th>\n",
       "      <td>350</td>\n",
       "      <td>New York City</td>\n",
       "      <td>Apps, Explorer</td>\n",
       "      <td>Week 1</td>\n",
       "      <td>4</td>\n",
       "      <td>Just right</td>\n",
       "    </tr>\n",
       "  </tbody>\n",
       "</table>\n",
       "</div>"
      ],
      "text/plain": [
       "    ID       Location           Track    Week Rating (Num)    Schedule Pacing\n",
       "0  134  San Francisco  Apps, Explorer  Week 1            3         Just right\n",
       "1   36    Los Angeles            Apps  Week 1            4  A little too fast\n",
       "2  117  San Francisco           Games  Week 1            4       Way too slow\n",
       "3  253            NaN             NaN  Week 2            4  A little too fast\n",
       "4  350  New York City  Apps, Explorer  Week 1            4         Just right"
      ]
     },
     "execution_count": 13,
     "metadata": {},
     "output_type": "execute_result"
    }
   ],
   "source": [
    "df.head()"
   ]
  },
  {
   "cell_type": "code",
   "execution_count": 14,
   "metadata": {},
   "outputs": [],
   "source": [
    "# Turn everything to ints\n",
    "# Delete rows with Rating (Num) == \"ERROR!\"\n",
    "df = df.drop([1310,1322,1411], axis=0)\n",
    "\n",
    "# Change Rating (Num) data type to int\n",
    "df[\"Rating (Num)\"] = pd.to_numeric(df[\"Rating (Num)\"])"
   ]
  },
  {
   "cell_type": "markdown",
   "metadata": {},
   "source": [
    "### Promoters vs Detractors"
   ]
  },
  {
   "cell_type": "code",
   "execution_count": 15,
   "metadata": {},
   "outputs": [
    {
     "name": "stdout",
     "output_type": "stream",
     "text": [
      "prom 760 det 121 pas 569 \n"
     ]
    },
    {
     "data": {
      "text/plain": [
       "639"
      ]
     },
     "execution_count": 15,
     "metadata": {},
     "output_type": "execute_result"
    }
   ],
   "source": [
    "prom = (df[df[\"Rating (Num)\"] >= 9])\n",
    "det = (df[df[\"Rating (Num)\"] <= 6])\n",
    "pas = df[(df[\"Rating (Num)\"] >= 7) & (df[\"Rating (Num)\"] <= 8)]\n",
    "print('prom {} det {} pas {} '.format(len(prom), len(det), len(pas)))\n",
    "len(prom) - len(det)\n",
    "# There are 639 more promoters than detractors in 2017"
   ]
  },
  {
   "cell_type": "markdown",
   "metadata": {},
   "source": [
    "### Track boasts best promoters to detractors"
   ]
  },
  {
   "cell_type": "code",
   "execution_count": 16,
   "metadata": {},
   "outputs": [
    {
     "data": {
      "text/plain": [
       "array(['Apps, Explorer', 'Apps', 'Games', nan, 'VR', 'Games, Explorer'],\n",
       "      dtype=object)"
      ]
     },
     "execution_count": 16,
     "metadata": {},
     "output_type": "execute_result"
    }
   ],
   "source": [
    "df.Track.unique()"
   ]
  },
  {
   "cell_type": "code",
   "execution_count": 17,
   "metadata": {},
   "outputs": [],
   "source": [
    "apps = df[(df['Track'] == 'Apps, Explorer') | (df['Track'] == 'Apps')]\n",
    "games = df[(df['Track'] == 'Games, Explorer') | (df['Track'] == 'Games')]\n",
    "VR = df[(df['Track'] == 'VR')]\n",
    "tracks = [apps, games, VR]"
   ]
  },
  {
   "cell_type": "code",
   "execution_count": null,
   "metadata": {},
   "outputs": [],
   "source": [
    "\n"
   ]
  },
  {
   "cell_type": "code",
   "execution_count": 18,
   "metadata": {},
   "outputs": [],
   "source": [
    "# TODO: GRAPH THIS\n"
   ]
  },
  {
   "cell_type": "markdown",
   "metadata": {},
   "source": [
    "### Does student experience get better the longer they are enrolled at the summer academy"
   ]
  },
  {
   "cell_type": "code",
   "execution_count": 32,
   "metadata": {},
   "outputs": [
    {
     "data": {
      "text/plain": [
       "{'Week 1': 8.26736111111111,\n",
       " 'Week 2': 8.347826086956522,\n",
       " 'Week 3': 8.522821576763485,\n",
       " 'Week 4': 8.33160621761658,\n",
       " 'Week 5': 8.441340782122905,\n",
       " 'Week 6': 8.541666666666666,\n",
       " 'Week 7': 8.6,\n",
       " 'Week 8': 9.11111111111111}"
      ]
     },
     "execution_count": 32,
     "metadata": {},
     "output_type": "execute_result"
    }
   ],
   "source": [
    "weeks = df.Week.unique()\n",
    "means = {}\n",
    "for week in sorted(weeks):\n",
    "    df_week = (df[df['Week'] == week])\n",
    "    means[week] = df_week['Rating (Num)'].mean()\n",
    "means"
   ]
  },
  {
   "cell_type": "code",
   "execution_count": 20,
   "metadata": {},
   "outputs": [
    {
     "data": {
      "image/png": "[encoded data removed]",
      "text/plain": [
       "<Figure size 432x288 with 1 Axes>"
      ]
     },
     "metadata": {
      "needs_background": "light"
     },
     "output_type": "display_data"
    }
   ],
   "source": [
    "# TODO: Graph of this data\n",
    "import matplotlib.pyplot as plt\n",
    "plt.plot(range(len(means)), list(means.values()))\n",
    "plt.xticks(range(len(means)), list(means.keys()))\n",
    "plt.ylim(7.5, 9.5)\n",
    "plt.show()"
   ]
  },
  {
   "cell_type": "markdown",
   "metadata": {},
   "source": [
    "### Does student satisfaction very by location?"
   ]
  },
  {
   "cell_type": "code",
   "execution_count": 21,
   "metadata": {},
   "outputs": [
    {
     "data": {
      "text/plain": [
       "{'San Francisco': 8.458333333333334,\n",
       " 'Los Angeles': 8.773584905660377,\n",
       " 'New York City': 8.275757575757575,\n",
       " 'Redwood City': 8.327586206896552,\n",
       " 'Santa Clara': 8.318407960199005,\n",
       " 'Oakland': 8.53191489361702,\n",
       " 'Washington DC': 8.170212765957446,\n",
       " 'Chicago': 8.485714285714286,\n",
       " 'Atlanta': 9.121212121212121,\n",
       " 'Hong Kong': 7.181818181818182,\n",
       " 'Beijing': 8.948717948717949,\n",
       " 'Tokyo': 8.246153846153845}"
      ]
     },
     "execution_count": 21,
     "metadata": {},
     "output_type": "execute_result"
    }
   ],
   "source": [
    "locs = df.Location.dropna().unique()\n",
    "locs_dic = {}\n",
    "for location in locs:\n",
    "    df_loc = (df[df['Location'] == location])\n",
    "    locs_dic[location] = df_loc['Rating (Num)'].mean()\n",
    "locs_dic\n"
   ]
  },
  {
   "cell_type": "code",
   "execution_count": 22,
   "metadata": {},
   "outputs": [
    {
     "data": {
      "image/png": "[encoded data removed]",
      "text/plain": [
       "<Figure size 432x288 with 1 Axes>"
      ]
     },
     "metadata": {
      "needs_background": "light"
     },
     "output_type": "display_data"
    }
   ],
   "source": [
    "# Graph of this data\n",
    "# plt.scatter(range(len(locs_dic)), list(locs_dic.values()))\n",
    "# plt.scatter(range(len(locs_dic.keys())), list(locs_dic.values()))\n",
    "# plt.xticks(range(len(locs_dic)), list(locs_dic.values()))\n",
    "plt.scatter(list(locs_dic.values()), list(locs_dic.keys()))\n",
    "\n",
    "# plt.ylim(7, 9.5)\n",
    "plt.xlim(7, 9.5)\n",
    "plt.title('student satisfaction by location')\n",
    "plt.show()"
   ]
  },
  {
   "cell_type": "code",
   "execution_count": null,
   "metadata": {},
   "outputs": [],
   "source": []
  },
  {
   "cell_type": "markdown",
   "metadata": {},
   "source": [
    "### What sorts of information does this dataset contain?"
   ]
  },
  {
   "cell_type": "code",
   "execution_count": 23,
   "metadata": {},
   "outputs": [
    {
     "data": {
      "text/html": [
       "<div>\n",
       "<style scoped>\n",
       "    .dataframe tbody tr th:only-of-type {\n",
       "        vertical-align: middle;\n",
       "    }\n",
       "\n",
       "    .dataframe tbody tr th {\n",
       "        vertical-align: top;\n",
       "    }\n",
       "\n",
       "    .dataframe thead th {\n",
       "        text-align: right;\n",
       "    }\n",
       "</style>\n",
       "<table border=\"1\" class=\"dataframe\">\n",
       "  <thead>\n",
       "    <tr style=\"text-align: right;\">\n",
       "      <th></th>\n",
       "      <th>ID</th>\n",
       "      <th>Location</th>\n",
       "      <th>Track</th>\n",
       "      <th>Week</th>\n",
       "      <th>Rating (Num)</th>\n",
       "      <th>Schedule Pacing</th>\n",
       "    </tr>\n",
       "  </thead>\n",
       "  <tbody>\n",
       "    <tr>\n",
       "      <th>0</th>\n",
       "      <td>134</td>\n",
       "      <td>San Francisco</td>\n",
       "      <td>Apps, Explorer</td>\n",
       "      <td>Week 1</td>\n",
       "      <td>3</td>\n",
       "      <td>Just right</td>\n",
       "    </tr>\n",
       "    <tr>\n",
       "      <th>1</th>\n",
       "      <td>36</td>\n",
       "      <td>Los Angeles</td>\n",
       "      <td>Apps</td>\n",
       "      <td>Week 1</td>\n",
       "      <td>4</td>\n",
       "      <td>A little too fast</td>\n",
       "    </tr>\n",
       "    <tr>\n",
       "      <th>2</th>\n",
       "      <td>117</td>\n",
       "      <td>San Francisco</td>\n",
       "      <td>Games</td>\n",
       "      <td>Week 1</td>\n",
       "      <td>4</td>\n",
       "      <td>Way too slow</td>\n",
       "    </tr>\n",
       "    <tr>\n",
       "      <th>4</th>\n",
       "      <td>350</td>\n",
       "      <td>New York City</td>\n",
       "      <td>Apps, Explorer</td>\n",
       "      <td>Week 1</td>\n",
       "      <td>4</td>\n",
       "      <td>Just right</td>\n",
       "    </tr>\n",
       "  </tbody>\n",
       "</table>\n",
       "</div>"
      ],
      "text/plain": [
       "    ID       Location           Track    Week  Rating (Num)    Schedule Pacing\n",
       "0  134  San Francisco  Apps, Explorer  Week 1             3         Just right\n",
       "1   36    Los Angeles            Apps  Week 1             4  A little too fast\n",
       "2  117  San Francisco           Games  Week 1             4       Way too slow\n",
       "4  350  New York City  Apps, Explorer  Week 1             4         Just right"
      ]
     },
     "execution_count": 23,
     "metadata": {},
     "output_type": "execute_result"
    }
   ],
   "source": [
    "df.head().dropna()"
   ]
  },
  {
   "cell_type": "code",
   "execution_count": 24,
   "metadata": {},
   "outputs": [],
   "source": [
    "# Do they offer all tracks everywhere\n",
    "\n",
    "# What track has most satisfaction\n",
    "# \n"
   ]
  },
  {
   "cell_type": "markdown",
   "metadata": {},
   "source": [
    "### total NPS Score"
   ]
  },
  {
   "cell_type": "code",
   "execution_count": 25,
   "metadata": {},
   "outputs": [
    {
     "name": "stdout",
     "output_type": "stream",
     "text": [
      "prom 760 det 121 pas 569 \n"
     ]
    }
   ],
   "source": [
    "prom = (df[df[\"Rating (Num)\"] >= 9])\n",
    "det = (df[df[\"Rating (Num)\"] <= 6])\n",
    "pas = df[(df[\"Rating (Num)\"] >= 7) & (df[\"Rating (Num)\"] <= 8)]\n",
    "print('prom {} det {} pas {} '.format(len(prom), len(det), len(pas)))"
   ]
  },
  {
   "cell_type": "code",
   "execution_count": 26,
   "metadata": {},
   "outputs": [],
   "source": [
    "nps = (len(prom) - len(det)) / (len(prom) + len(pas) + len(det))"
   ]
  },
  {
   "cell_type": "code",
   "execution_count": 27,
   "metadata": {},
   "outputs": [
    {
     "data": {
      "text/plain": [
       "0.4406896551724138"
      ]
     },
     "execution_count": 27,
     "metadata": {},
     "output_type": "execute_result"
    }
   ],
   "source": [
    "nps"
   ]
  },
  {
   "cell_type": "code",
   "execution_count": null,
   "metadata": {},
   "outputs": [],
   "source": []
  },
  {
   "cell_type": "code",
   "execution_count": null,
   "metadata": {},
   "outputs": [],
   "source": []
  },
  {
   "cell_type": "code",
   "execution_count": null,
   "metadata": {},
   "outputs": [],
   "source": []
  }
 ],
 "metadata": {
  "kernelspec": {
   "display_name": "Python 3",
   "language": "python",
   "name": "python3"
  },
  "language_info": {
   "codemirror_mode": {
    "name": "ipython",
    "version": 3
   },
   "file_extension": ".py",
   "mimetype": "text/x-python",
   "name": "python",
   "nbconvert_exporter": "python",
   "pygments_lexer": "ipython3",
   "version": "3.7.3"
  }
 },
 "nbformat": 4,
 "nbformat_minor": 2
}
