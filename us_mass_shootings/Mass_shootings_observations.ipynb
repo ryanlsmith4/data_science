{
 "cells": [
  {
   "cell_type": "code",
   "execution_count": 1,
   "metadata": {},
   "outputs": [],
   "source": [
    "import pandas as pd\n",
    "import numpy as np\n",
    "df = pd.read_csv('us_mass_shootings.csv',dtype={'Age':str}, encoding = \"utf-8\")\n",
    "import seaborn as sns\n",
    "import matplotlib.pyplot as plt\n"
   ]
  },
  {
   "cell_type": "code",
   "execution_count": 2,
   "metadata": {},
   "outputs": [
    {
     "data": {
      "text/plain": [
       "(323, 21)"
      ]
     },
     "execution_count": 2,
     "metadata": {},
     "output_type": "execute_result"
    }
   ],
   "source": [
    "df.shape"
   ]
  },
  {
   "cell_type": "code",
   "execution_count": 3,
   "metadata": {},
   "outputs": [],
   "source": [
    "all = len(df)"
   ]
  },
  {
   "cell_type": "code",
   "execution_count": 4,
   "metadata": {},
   "outputs": [
    {
     "data": {
      "text/plain": [
       "323"
      ]
     },
     "execution_count": 4,
     "metadata": {},
     "output_type": "execute_result"
    }
   ],
   "source": [
    "all"
   ]
  },
  {
   "cell_type": "code",
   "execution_count": 5,
   "metadata": {},
   "outputs": [
    {
     "data": {
      "text/html": [
       "<div>\n",
       "<style scoped>\n",
       "    .dataframe tbody tr th:only-of-type {\n",
       "        vertical-align: middle;\n",
       "    }\n",
       "\n",
       "    .dataframe tbody tr th {\n",
       "        vertical-align: top;\n",
       "    }\n",
       "\n",
       "    .dataframe thead th {\n",
       "        text-align: right;\n",
       "    }\n",
       "</style>\n",
       "<table border=\"1\" class=\"dataframe\">\n",
       "  <thead>\n",
       "    <tr style=\"text-align: right;\">\n",
       "      <th></th>\n",
       "      <th>S#</th>\n",
       "      <th>Title</th>\n",
       "      <th>Location</th>\n",
       "      <th>Date</th>\n",
       "      <th>Incident_Area</th>\n",
       "      <th>Open/Close Location</th>\n",
       "      <th>Target</th>\n",
       "      <th>Cause</th>\n",
       "      <th>Summary</th>\n",
       "      <th>Fatalities</th>\n",
       "      <th>...</th>\n",
       "      <th>Total_victims</th>\n",
       "      <th>Policeman Killed</th>\n",
       "      <th>Age</th>\n",
       "      <th>Employeed (Y/N)</th>\n",
       "      <th>Employed at</th>\n",
       "      <th>Mental_Health_Issues</th>\n",
       "      <th>Race</th>\n",
       "      <th>Gender</th>\n",
       "      <th>Latitude</th>\n",
       "      <th>Longitude</th>\n",
       "    </tr>\n",
       "  </thead>\n",
       "  <tbody>\n",
       "    <tr>\n",
       "      <th>0</th>\n",
       "      <td>1</td>\n",
       "      <td>Texas church mass shooting</td>\n",
       "      <td>Sutherland Springs, TX</td>\n",
       "      <td>11/5/2017</td>\n",
       "      <td>Church</td>\n",
       "      <td>Close</td>\n",
       "      <td>random</td>\n",
       "      <td>unknown</td>\n",
       "      <td>Devin Patrick Kelley, 26, an ex-air force offi...</td>\n",
       "      <td>26</td>\n",
       "      <td>...</td>\n",
       "      <td>46</td>\n",
       "      <td>0.0</td>\n",
       "      <td>26</td>\n",
       "      <td>NaN</td>\n",
       "      <td>NaN</td>\n",
       "      <td>No</td>\n",
       "      <td>White</td>\n",
       "      <td>M</td>\n",
       "      <td>NaN</td>\n",
       "      <td>NaN</td>\n",
       "    </tr>\n",
       "    <tr>\n",
       "      <th>1</th>\n",
       "      <td>2</td>\n",
       "      <td>Walmart shooting in suburban Denver</td>\n",
       "      <td>Thornton, CO</td>\n",
       "      <td>11/1/2017</td>\n",
       "      <td>Wal-Mart</td>\n",
       "      <td>Open</td>\n",
       "      <td>random</td>\n",
       "      <td>unknown</td>\n",
       "      <td>Scott Allen Ostrem, 47, walked into a Walmart ...</td>\n",
       "      <td>3</td>\n",
       "      <td>...</td>\n",
       "      <td>3</td>\n",
       "      <td>0.0</td>\n",
       "      <td>47</td>\n",
       "      <td>NaN</td>\n",
       "      <td>NaN</td>\n",
       "      <td>No</td>\n",
       "      <td>White</td>\n",
       "      <td>M</td>\n",
       "      <td>NaN</td>\n",
       "      <td>NaN</td>\n",
       "    </tr>\n",
       "    <tr>\n",
       "      <th>2</th>\n",
       "      <td>3</td>\n",
       "      <td>Edgewood businees park shooting</td>\n",
       "      <td>Edgewood, MD</td>\n",
       "      <td>10/18/2017</td>\n",
       "      <td>Remodeling Store</td>\n",
       "      <td>Close</td>\n",
       "      <td>coworkers</td>\n",
       "      <td>unknown</td>\n",
       "      <td>Radee Labeeb Prince, 37, fatally shot three pe...</td>\n",
       "      <td>3</td>\n",
       "      <td>...</td>\n",
       "      <td>6</td>\n",
       "      <td>0.0</td>\n",
       "      <td>37</td>\n",
       "      <td>NaN</td>\n",
       "      <td>Advance Granite Store</td>\n",
       "      <td>No</td>\n",
       "      <td>Black</td>\n",
       "      <td>M</td>\n",
       "      <td>NaN</td>\n",
       "      <td>NaN</td>\n",
       "    </tr>\n",
       "    <tr>\n",
       "      <th>3</th>\n",
       "      <td>4</td>\n",
       "      <td>Las Vegas Strip mass shooting</td>\n",
       "      <td>Las Vegas, NV</td>\n",
       "      <td>10/1/2017</td>\n",
       "      <td>Las Vegas Strip Concert outside Mandala Bay</td>\n",
       "      <td>Open</td>\n",
       "      <td>random</td>\n",
       "      <td>unknown</td>\n",
       "      <td>Stephen Craig Paddock, opened fire from the 32...</td>\n",
       "      <td>59</td>\n",
       "      <td>...</td>\n",
       "      <td>585</td>\n",
       "      <td>1.0</td>\n",
       "      <td>64</td>\n",
       "      <td>NaN</td>\n",
       "      <td>NaN</td>\n",
       "      <td>Unclear</td>\n",
       "      <td>White</td>\n",
       "      <td>M</td>\n",
       "      <td>36.181271</td>\n",
       "      <td>-115.134132</td>\n",
       "    </tr>\n",
       "    <tr>\n",
       "      <th>4</th>\n",
       "      <td>5</td>\n",
       "      <td>San Francisco UPS shooting</td>\n",
       "      <td>San Francisco, CA</td>\n",
       "      <td>6/14/2017</td>\n",
       "      <td>UPS facility</td>\n",
       "      <td>Close</td>\n",
       "      <td>coworkers</td>\n",
       "      <td>NaN</td>\n",
       "      <td>Jimmy Lam, 38, fatally shot three coworkers an...</td>\n",
       "      <td>3</td>\n",
       "      <td>...</td>\n",
       "      <td>5</td>\n",
       "      <td>0.0</td>\n",
       "      <td>38</td>\n",
       "      <td>1.0</td>\n",
       "      <td>NaN</td>\n",
       "      <td>Yes</td>\n",
       "      <td>Asian</td>\n",
       "      <td>M</td>\n",
       "      <td>NaN</td>\n",
       "      <td>NaN</td>\n",
       "    </tr>\n",
       "  </tbody>\n",
       "</table>\n",
       "<p>5 rows × 21 columns</p>\n",
       "</div>"
      ],
      "text/plain": [
       "   S#                                Title                Location  \\\n",
       "0   1           Texas church mass shooting  Sutherland Springs, TX   \n",
       "1   2  Walmart shooting in suburban Denver            Thornton, CO   \n",
       "2   3      Edgewood businees park shooting            Edgewood, MD   \n",
       "3   4        Las Vegas Strip mass shooting           Las Vegas, NV   \n",
       "4   5           San Francisco UPS shooting       San Francisco, CA   \n",
       "\n",
       "         Date                                Incident_Area  \\\n",
       "0   11/5/2017                                       Church   \n",
       "1   11/1/2017                                     Wal-Mart   \n",
       "2  10/18/2017                             Remodeling Store   \n",
       "3   10/1/2017  Las Vegas Strip Concert outside Mandala Bay   \n",
       "4   6/14/2017                                 UPS facility   \n",
       "\n",
       "  Open/Close Location     Target    Cause  \\\n",
       "0               Close     random  unknown   \n",
       "1                Open     random  unknown   \n",
       "2               Close  coworkers  unknown   \n",
       "3                Open     random  unknown   \n",
       "4               Close  coworkers      NaN   \n",
       "\n",
       "                                             Summary  Fatalities  ...  \\\n",
       "0  Devin Patrick Kelley, 26, an ex-air force offi...          26  ...   \n",
       "1  Scott Allen Ostrem, 47, walked into a Walmart ...           3  ...   \n",
       "2  Radee Labeeb Prince, 37, fatally shot three pe...           3  ...   \n",
       "3  Stephen Craig Paddock, opened fire from the 32...          59  ...   \n",
       "4  Jimmy Lam, 38, fatally shot three coworkers an...           3  ...   \n",
       "\n",
       "   Total_victims  Policeman Killed  Age Employeed (Y/N)  \\\n",
       "0             46               0.0   26             NaN   \n",
       "1              3               0.0   47             NaN   \n",
       "2              6               0.0   37             NaN   \n",
       "3            585               1.0   64             NaN   \n",
       "4              5               0.0   38             1.0   \n",
       "\n",
       "             Employed at Mental_Health_Issues   Race Gender   Latitude  \\\n",
       "0                    NaN                   No  White      M        NaN   \n",
       "1                    NaN                   No  White      M        NaN   \n",
       "2  Advance Granite Store                   No  Black      M        NaN   \n",
       "3                    NaN              Unclear  White      M  36.181271   \n",
       "4                    NaN                  Yes  Asian      M        NaN   \n",
       "\n",
       "    Longitude  \n",
       "0         NaN  \n",
       "1         NaN  \n",
       "2         NaN  \n",
       "3 -115.134132  \n",
       "4         NaN  \n",
       "\n",
       "[5 rows x 21 columns]"
      ]
     },
     "execution_count": 5,
     "metadata": {},
     "output_type": "execute_result"
    }
   ],
   "source": [
    "df.head()\n"
   ]
  },
  {
   "cell_type": "code",
   "execution_count": 6,
   "metadata": {
    "scrolled": true
   },
   "outputs": [
    {
     "data": {
      "text/html": [
       "<div>\n",
       "<style scoped>\n",
       "    .dataframe tbody tr th:only-of-type {\n",
       "        vertical-align: middle;\n",
       "    }\n",
       "\n",
       "    .dataframe tbody tr th {\n",
       "        vertical-align: top;\n",
       "    }\n",
       "\n",
       "    .dataframe thead th {\n",
       "        text-align: right;\n",
       "    }\n",
       "</style>\n",
       "<table border=\"1\" class=\"dataframe\">\n",
       "  <thead>\n",
       "    <tr style=\"text-align: right;\">\n",
       "      <th></th>\n",
       "      <th>S#</th>\n",
       "      <th>Title</th>\n",
       "      <th>Location</th>\n",
       "      <th>Date</th>\n",
       "      <th>Incident_Area</th>\n",
       "      <th>Open/Close Location</th>\n",
       "      <th>Target</th>\n",
       "      <th>Cause</th>\n",
       "      <th>Summary</th>\n",
       "      <th>Fatalities</th>\n",
       "      <th>...</th>\n",
       "      <th>Total_victims</th>\n",
       "      <th>Policeman Killed</th>\n",
       "      <th>Age</th>\n",
       "      <th>Employeed (Y/N)</th>\n",
       "      <th>Employed at</th>\n",
       "      <th>Mental_Health_Issues</th>\n",
       "      <th>Race</th>\n",
       "      <th>Gender</th>\n",
       "      <th>Latitude</th>\n",
       "      <th>Longitude</th>\n",
       "    </tr>\n",
       "  </thead>\n",
       "  <tbody>\n",
       "    <tr>\n",
       "      <th>0</th>\n",
       "      <td>1</td>\n",
       "      <td>Texas church mass shooting</td>\n",
       "      <td>Sutherland Springs, TX</td>\n",
       "      <td>11/5/2017</td>\n",
       "      <td>Church</td>\n",
       "      <td>Close</td>\n",
       "      <td>random</td>\n",
       "      <td>unknown</td>\n",
       "      <td>Devin Patrick Kelley, 26, an ex-air force offi...</td>\n",
       "      <td>26</td>\n",
       "      <td>...</td>\n",
       "      <td>46</td>\n",
       "      <td>0.0</td>\n",
       "      <td>26</td>\n",
       "      <td>NaN</td>\n",
       "      <td>NaN</td>\n",
       "      <td>No</td>\n",
       "      <td>White</td>\n",
       "      <td>M</td>\n",
       "      <td>NaN</td>\n",
       "      <td>NaN</td>\n",
       "    </tr>\n",
       "    <tr>\n",
       "      <th>1</th>\n",
       "      <td>2</td>\n",
       "      <td>Walmart shooting in suburban Denver</td>\n",
       "      <td>Thornton, CO</td>\n",
       "      <td>11/1/2017</td>\n",
       "      <td>Wal-Mart</td>\n",
       "      <td>Open</td>\n",
       "      <td>random</td>\n",
       "      <td>unknown</td>\n",
       "      <td>Scott Allen Ostrem, 47, walked into a Walmart ...</td>\n",
       "      <td>3</td>\n",
       "      <td>...</td>\n",
       "      <td>3</td>\n",
       "      <td>0.0</td>\n",
       "      <td>47</td>\n",
       "      <td>NaN</td>\n",
       "      <td>NaN</td>\n",
       "      <td>No</td>\n",
       "      <td>White</td>\n",
       "      <td>M</td>\n",
       "      <td>NaN</td>\n",
       "      <td>NaN</td>\n",
       "    </tr>\n",
       "    <tr>\n",
       "      <th>3</th>\n",
       "      <td>4</td>\n",
       "      <td>Las Vegas Strip mass shooting</td>\n",
       "      <td>Las Vegas, NV</td>\n",
       "      <td>10/1/2017</td>\n",
       "      <td>Las Vegas Strip Concert outside Mandala Bay</td>\n",
       "      <td>Open</td>\n",
       "      <td>random</td>\n",
       "      <td>unknown</td>\n",
       "      <td>Stephen Craig Paddock, opened fire from the 32...</td>\n",
       "      <td>59</td>\n",
       "      <td>...</td>\n",
       "      <td>585</td>\n",
       "      <td>1.0</td>\n",
       "      <td>64</td>\n",
       "      <td>NaN</td>\n",
       "      <td>NaN</td>\n",
       "      <td>Unclear</td>\n",
       "      <td>White</td>\n",
       "      <td>M</td>\n",
       "      <td>36.181271</td>\n",
       "      <td>-115.134132</td>\n",
       "    </tr>\n",
       "    <tr>\n",
       "      <th>5</th>\n",
       "      <td>6</td>\n",
       "      <td>Pennsylvania supermarket shooting</td>\n",
       "      <td>Tunkhannock, PA</td>\n",
       "      <td>6/7/2017</td>\n",
       "      <td>Weis grocery</td>\n",
       "      <td>Close</td>\n",
       "      <td>coworkers</td>\n",
       "      <td>terrorism</td>\n",
       "      <td>Randy Stair, a 24-year-old worker at Weis groc...</td>\n",
       "      <td>3</td>\n",
       "      <td>...</td>\n",
       "      <td>3</td>\n",
       "      <td>NaN</td>\n",
       "      <td>24</td>\n",
       "      <td>1.0</td>\n",
       "      <td>Weis grocery</td>\n",
       "      <td>Unclear</td>\n",
       "      <td>White</td>\n",
       "      <td>M</td>\n",
       "      <td>NaN</td>\n",
       "      <td>NaN</td>\n",
       "    </tr>\n",
       "    <tr>\n",
       "      <th>7</th>\n",
       "      <td>8</td>\n",
       "      <td>Rural Ohio nursing home shooting</td>\n",
       "      <td>Kirkersville, Ohio</td>\n",
       "      <td>5/12/2017</td>\n",
       "      <td>a nursing home</td>\n",
       "      <td>Close</td>\n",
       "      <td>coworkers</td>\n",
       "      <td>NaN</td>\n",
       "      <td>Thomas Hartless, 43, shot and killed a former ...</td>\n",
       "      <td>3</td>\n",
       "      <td>...</td>\n",
       "      <td>3</td>\n",
       "      <td>1.0</td>\n",
       "      <td>43</td>\n",
       "      <td>1.0</td>\n",
       "      <td>some nursing home</td>\n",
       "      <td>Yes</td>\n",
       "      <td>White</td>\n",
       "      <td>M</td>\n",
       "      <td>NaN</td>\n",
       "      <td>NaN</td>\n",
       "    </tr>\n",
       "    <tr>\n",
       "      <th>57</th>\n",
       "      <td>58</td>\n",
       "      <td>Kalamazoo shooting spree</td>\n",
       "      <td>Kalamazoo County, Michigan</td>\n",
       "      <td>2/20/2016</td>\n",
       "      <td>restaurant parking</td>\n",
       "      <td>Open</td>\n",
       "      <td>random</td>\n",
       "      <td>NaN</td>\n",
       "      <td>Jason B. Dalton, a driver for Uber, apparently...</td>\n",
       "      <td>6</td>\n",
       "      <td>...</td>\n",
       "      <td>8</td>\n",
       "      <td>0.0</td>\n",
       "      <td>NaN</td>\n",
       "      <td>1.0</td>\n",
       "      <td>uber</td>\n",
       "      <td>Unclear</td>\n",
       "      <td>White</td>\n",
       "      <td>M</td>\n",
       "      <td>NaN</td>\n",
       "      <td>NaN</td>\n",
       "    </tr>\n",
       "    <tr>\n",
       "      <th>82</th>\n",
       "      <td>83</td>\n",
       "      <td>Planned Parenthood clinic</td>\n",
       "      <td>Colorado Springs, Colorado</td>\n",
       "      <td>11/27/2015</td>\n",
       "      <td>health clinic</td>\n",
       "      <td>Close</td>\n",
       "      <td>random</td>\n",
       "      <td>NaN</td>\n",
       "      <td>police were called to a street to investigate ...</td>\n",
       "      <td>3</td>\n",
       "      <td>...</td>\n",
       "      <td>12</td>\n",
       "      <td>1.0</td>\n",
       "      <td>57</td>\n",
       "      <td>NaN</td>\n",
       "      <td>NaN</td>\n",
       "      <td>Unclear</td>\n",
       "      <td>White</td>\n",
       "      <td>M</td>\n",
       "      <td>NaN</td>\n",
       "      <td>NaN</td>\n",
       "    </tr>\n",
       "    <tr>\n",
       "      <th>106</th>\n",
       "      <td>107</td>\n",
       "      <td>Charleston Church Shooting</td>\n",
       "      <td>Charleston, South Carolina</td>\n",
       "      <td>6/17/2015</td>\n",
       "      <td>Church</td>\n",
       "      <td>Close</td>\n",
       "      <td>random</td>\n",
       "      <td>terrorism</td>\n",
       "      <td>Dylann Storm Roof, 21, shot and killed 9 peopl...</td>\n",
       "      <td>9</td>\n",
       "      <td>...</td>\n",
       "      <td>10</td>\n",
       "      <td>0.0</td>\n",
       "      <td>21</td>\n",
       "      <td>NaN</td>\n",
       "      <td>NaN</td>\n",
       "      <td>unknown</td>\n",
       "      <td>White</td>\n",
       "      <td>Male</td>\n",
       "      <td>32.788387</td>\n",
       "      <td>-79.933143</td>\n",
       "    </tr>\n",
       "    <tr>\n",
       "      <th>154</th>\n",
       "      <td>155</td>\n",
       "      <td>Isla Vista mass murder</td>\n",
       "      <td>Santa Barbara, California</td>\n",
       "      <td>5/23/2014</td>\n",
       "      <td>NaN</td>\n",
       "      <td>Open+Close</td>\n",
       "      <td>random</td>\n",
       "      <td>psycho</td>\n",
       "      <td>Elliot Rodger, 22, shot three people to death ...</td>\n",
       "      <td>6</td>\n",
       "      <td>...</td>\n",
       "      <td>19</td>\n",
       "      <td>0.0</td>\n",
       "      <td>22</td>\n",
       "      <td>NaN</td>\n",
       "      <td>NaN</td>\n",
       "      <td>Yes</td>\n",
       "      <td>White</td>\n",
       "      <td>M</td>\n",
       "      <td>NaN</td>\n",
       "      <td>NaN</td>\n",
       "    </tr>\n",
       "  </tbody>\n",
       "</table>\n",
       "<p>9 rows × 21 columns</p>\n",
       "</div>"
      ],
      "text/plain": [
       "      S#                                Title                    Location  \\\n",
       "0      1           Texas church mass shooting      Sutherland Springs, TX   \n",
       "1      2  Walmart shooting in suburban Denver                Thornton, CO   \n",
       "3      4        Las Vegas Strip mass shooting               Las Vegas, NV   \n",
       "5      6    Pennsylvania supermarket shooting             Tunkhannock, PA   \n",
       "7      8     Rural Ohio nursing home shooting          Kirkersville, Ohio   \n",
       "57    58             Kalamazoo shooting spree  Kalamazoo County, Michigan   \n",
       "82    83            Planned Parenthood clinic  Colorado Springs, Colorado   \n",
       "106  107           Charleston Church Shooting  Charleston, South Carolina   \n",
       "154  155               Isla Vista mass murder   Santa Barbara, California   \n",
       "\n",
       "           Date                                Incident_Area  \\\n",
       "0     11/5/2017                                       Church   \n",
       "1     11/1/2017                                     Wal-Mart   \n",
       "3     10/1/2017  Las Vegas Strip Concert outside Mandala Bay   \n",
       "5      6/7/2017                                 Weis grocery   \n",
       "7     5/12/2017                               a nursing home   \n",
       "57    2/20/2016                           restaurant parking   \n",
       "82   11/27/2015                                health clinic   \n",
       "106   6/17/2015                                       Church   \n",
       "154   5/23/2014                                          NaN   \n",
       "\n",
       "    Open/Close Location     Target      Cause  \\\n",
       "0                 Close     random    unknown   \n",
       "1                  Open     random    unknown   \n",
       "3                  Open     random    unknown   \n",
       "5                 Close  coworkers  terrorism   \n",
       "7                 Close  coworkers        NaN   \n",
       "57                 Open     random        NaN   \n",
       "82                Close     random        NaN   \n",
       "106               Close     random  terrorism   \n",
       "154          Open+Close     random     psycho   \n",
       "\n",
       "                                               Summary  Fatalities  ...  \\\n",
       "0    Devin Patrick Kelley, 26, an ex-air force offi...          26  ...   \n",
       "1    Scott Allen Ostrem, 47, walked into a Walmart ...           3  ...   \n",
       "3    Stephen Craig Paddock, opened fire from the 32...          59  ...   \n",
       "5    Randy Stair, a 24-year-old worker at Weis groc...           3  ...   \n",
       "7    Thomas Hartless, 43, shot and killed a former ...           3  ...   \n",
       "57   Jason B. Dalton, a driver for Uber, apparently...           6  ...   \n",
       "82   police were called to a street to investigate ...           3  ...   \n",
       "106  Dylann Storm Roof, 21, shot and killed 9 peopl...           9  ...   \n",
       "154  Elliot Rodger, 22, shot three people to death ...           6  ...   \n",
       "\n",
       "     Total_victims  Policeman Killed  Age Employeed (Y/N)        Employed at  \\\n",
       "0               46               0.0   26             NaN                NaN   \n",
       "1                3               0.0   47             NaN                NaN   \n",
       "3              585               1.0   64             NaN                NaN   \n",
       "5                3               NaN   24             1.0       Weis grocery   \n",
       "7                3               1.0   43             1.0  some nursing home   \n",
       "57               8               0.0  NaN             1.0               uber   \n",
       "82              12               1.0   57             NaN                NaN   \n",
       "106             10               0.0   21             NaN                NaN   \n",
       "154             19               0.0   22             NaN                NaN   \n",
       "\n",
       "    Mental_Health_Issues   Race Gender   Latitude   Longitude  \n",
       "0                     No  White      M        NaN         NaN  \n",
       "1                     No  White      M        NaN         NaN  \n",
       "3                Unclear  White      M  36.181271 -115.134132  \n",
       "5                Unclear  White      M        NaN         NaN  \n",
       "7                    Yes  White      M        NaN         NaN  \n",
       "57               Unclear  White      M        NaN         NaN  \n",
       "82               Unclear  White      M        NaN         NaN  \n",
       "106              unknown  White   Male  32.788387  -79.933143  \n",
       "154                  Yes  White      M        NaN         NaN  \n",
       "\n",
       "[9 rows x 21 columns]"
      ]
     },
     "execution_count": 6,
     "metadata": {},
     "output_type": "execute_result"
    }
   ],
   "source": [
    "df[df['Race'] == 'White'] "
   ]
  },
  {
   "cell_type": "code",
   "execution_count": 7,
   "metadata": {},
   "outputs": [],
   "source": [
    "white_american = len(df[df['Race'] == 'White'])"
   ]
  },
  {
   "cell_type": "code",
   "execution_count": 8,
   "metadata": {},
   "outputs": [],
   "source": [
    "white_american1 = len(df[df['Race'] == 'white'])"
   ]
  },
  {
   "cell_type": "code",
   "execution_count": 9,
   "metadata": {},
   "outputs": [
    {
     "data": {
      "text/plain": [
       "9"
      ]
     },
     "execution_count": 9,
     "metadata": {},
     "output_type": "execute_result"
    }
   ],
   "source": [
    "white_american"
   ]
  },
  {
   "cell_type": "code",
   "execution_count": 10,
   "metadata": {},
   "outputs": [],
   "source": [
    "black_american = len(df[df['Race'] == 'Black'])"
   ]
  },
  {
   "cell_type": "code",
   "execution_count": 11,
   "metadata": {},
   "outputs": [
    {
     "data": {
      "text/plain": [
       "5"
      ]
     },
     "execution_count": 11,
     "metadata": {},
     "output_type": "execute_result"
    }
   ],
   "source": [
    "black_american"
   ]
  },
  {
   "cell_type": "code",
   "execution_count": 12,
   "metadata": {},
   "outputs": [
    {
     "data": {
      "text/plain": [
       "122"
      ]
     },
     "execution_count": 12,
     "metadata": {},
     "output_type": "execute_result"
    }
   ],
   "source": [
    "white_american_european_american = len(df[df['Race'] == 'White American or European American'])\n",
    "white_american_european_american"
   ]
  },
  {
   "cell_type": "code",
   "execution_count": 13,
   "metadata": {},
   "outputs": [
    {
     "data": {
      "text/plain": [
       "76"
      ]
     },
     "execution_count": 13,
     "metadata": {},
     "output_type": "execute_result"
    }
   ],
   "source": [
    "black_american_african_american = len(df[df['Race'] == 'Black American or African American'])\n",
    "black_american_african_american\n"
   ]
  },
  {
   "cell_type": "markdown",
   "metadata": {},
   "source": [
    "### How many White Americans Have caused mass shootings?"
   ]
  },
  {
   "cell_type": "code",
   "execution_count": 14,
   "metadata": {},
   "outputs": [
    {
     "data": {
      "text/plain": [
       "143"
      ]
     },
     "execution_count": 14,
     "metadata": {},
     "output_type": "execute_result"
    }
   ],
   "source": [
    "white = white_american + white_american1 +  white_american_european_american\n",
    "white"
   ]
  },
  {
   "cell_type": "markdown",
   "metadata": {},
   "source": [
    "### How many Black Americans have caused mass shootings?"
   ]
  },
  {
   "cell_type": "code",
   "execution_count": 15,
   "metadata": {},
   "outputs": [
    {
     "data": {
      "text/plain": [
       "81"
      ]
     },
     "execution_count": 15,
     "metadata": {},
     "output_type": "execute_result"
    }
   ],
   "source": [
    "black = black_american + black_american_african_american\n",
    "black"
   ]
  },
  {
   "cell_type": "markdown",
   "metadata": {},
   "source": [
    "### Ratio of White Americans causing mass shootings?"
   ]
  },
  {
   "cell_type": "code",
   "execution_count": 16,
   "metadata": {},
   "outputs": [
    {
     "data": {
      "text/plain": [
       "0.44272445820433437"
      ]
     },
     "execution_count": 16,
     "metadata": {},
     "output_type": "execute_result"
    }
   ],
   "source": [
    "white/all"
   ]
  },
  {
   "cell_type": "markdown",
   "metadata": {},
   "source": [
    "### Ratio of Black Americans causing mass shootings?"
   ]
  },
  {
   "cell_type": "code",
   "execution_count": 17,
   "metadata": {},
   "outputs": [
    {
     "data": {
      "text/plain": [
       "0.25077399380804954"
      ]
     },
     "execution_count": 17,
     "metadata": {},
     "output_type": "execute_result"
    }
   ],
   "source": [
    "black/all"
   ]
  },
  {
   "cell_type": "code",
   "execution_count": 18,
   "metadata": {},
   "outputs": [
    {
     "name": "stdout",
     "output_type": "stream",
     "text": [
      "White American or European American 122\n",
      "\n",
      "\n"
     ]
    },
    {
     "data": {
      "text/plain": [
       "{'White': 9,\n",
       " 'Black': 5,\n",
       " 'Asian': 6,\n",
       " 'Latino': 5,\n",
       " 'Other': 2,\n",
       " 'Unknown': 42,\n",
       " 'Black American or African American': 76,\n",
       " 'White American or European American': 122,\n",
       " 'Asian American': 11,\n",
       " 'Some other race': 20,\n",
       " 'Two or more races': 2,\n",
       " 'Black American or African American/Unknown': 1,\n",
       " 'White American or European American/Some other Race': 1,\n",
       " 'Native American or Alaska Native': 3,\n",
       " 'white': 12,\n",
       " 'black': 3,\n",
       " 'Asian American/Some other race': 1}"
      ]
     },
     "execution_count": 18,
     "metadata": {},
     "output_type": "execute_result"
    }
   ],
   "source": [
    "races = df.Race.dropna()\n",
    "race_dict = {}\n",
    "for race in races:\n",
    "    if race in race_dict:\n",
    "        race_dict[race] += 1\n",
    "    else:\n",
    "        race_dict[race] = 1\n",
    "        \n",
    "maximum = max(race_dict, key=race_dict.get)\n",
    "print(maximum, race_dict[maximum])\n",
    "print('\\n')\n",
    "race_dict"
   ]
  },
  {
   "cell_type": "markdown",
   "metadata": {},
   "source": [
    "### Graph showing mass murders by race"
   ]
  },
  {
   "cell_type": "code",
   "execution_count": 19,
   "metadata": {},
   "outputs": [
    {
     "data": {
      "text/plain": [
       "<matplotlib.axes._subplots.AxesSubplot at 0x1a20068eb8>"
      ]
     },
     "execution_count": 19,
     "metadata": {},
     "output_type": "execute_result"
    },
    {
     "data": {
      "image/png": "[encoded data removed]",
      "text/plain": [
       "<Figure size 432x288 with 1 Axes>"
      ]
     },
     "metadata": {
      "needs_background": "light"
     },
     "output_type": "display_data"
    }
   ],
   "source": [
    "df['Race'].value_counts().plot(kind='bar')"
   ]
  },
  {
   "cell_type": "code",
   "execution_count": 20,
   "metadata": {},
   "outputs": [
    {
     "data": {
      "text/plain": [
       "'The shooting occurred during an annual event marking the opening of the motorcycle season. More than 2,000 people were in attendance when gunfire erupted at South 16th Street and 19th Avenue just before 8 p.m. Sunday. High school football star Al-Shakeem Woodson was shot and killed and three other people were wounded in the shooting.\\r\\nThe shooting was a result of a long-running feud between two other against the shooter and the 16-year-old.'"
      ]
     },
     "execution_count": 20,
     "metadata": {},
     "output_type": "execute_result"
    }
   ],
   "source": [
    "(df[df['Incident_Area']== 'opening of motorcycle season']['Summary']).values[0]"
   ]
  },
  {
   "cell_type": "code",
   "execution_count": 21,
   "metadata": {},
   "outputs": [
    {
     "data": {
      "text/plain": [
       "{'Church': 5,\n",
       " 'Wal-Mart': 1,\n",
       " 'Remodeling Store': 1,\n",
       " 'Las Vegas Strip Concert outside Mandala Bay': 1,\n",
       " 'UPS facility': 1,\n",
       " 'Weis grocery': 1,\n",
       " 'manufacturer Fiamma Inc.': 1,\n",
       " 'a nursing home': 1,\n",
       " 'a street in downtown': 1,\n",
       " 'baggage claim area of the airport': 1,\n",
       " 'cosmetics section of a Macy’s department store': 1,\n",
       " 'at protest': 1,\n",
       " 'at nightclub': 1,\n",
       " 'in street': 1,\n",
       " 'crown': 1,\n",
       " 'block party': 1,\n",
       " 'in a park': 1,\n",
       " 'Home': 43,\n",
       " 'along a highway ': 1,\n",
       " 'at street corner': 1,\n",
       " 'at party': 1,\n",
       " 'at gas station': 1,\n",
       " 'south shore': 1,\n",
       " 'restaurant': 2,\n",
       " 'bus station': 1,\n",
       " 'in home': 1,\n",
       " 'home in rural Alabama': 1,\n",
       " 'drive-by in Wetumpka, Alabama': 1,\n",
       " 'outside nightclub': 1,\n",
       " 'outside of an apartment complex in Trenton, NJ': 1,\n",
       " 'backyard of a house': 2,\n",
       " 'drive-by on MLK boulevard in Lafayette': 1,\n",
       " 'apartment in Chelsea': 1,\n",
       " 'outside the club': 2,\n",
       " 'restaurant parking': 2,\n",
       " 'outside the house': 2,\n",
       " 'workplace': 1,\n",
       " 'interstate in Hazelwood': 1,\n",
       " 'hookah bar parking': 1,\n",
       " 'outside gym': 1,\n",
       " 'nightclub': 2,\n",
       " 'strip club': 1,\n",
       " 'gas station': 1,\n",
       " 'outside of liquor store': 1,\n",
       " 'Christmas Party': 1,\n",
       " 'conference room': 1,\n",
       " 'health clinic': 2,\n",
       " 'Black Lives Matter encampment': 1,\n",
       " 'private campsite': 1,\n",
       " 'sidewalk': 1,\n",
       " 'Colerain Township': 1,\n",
       " 'Northern Arizona University': 1,\n",
       " 'Community College Classroom': 1,\n",
       " 'Club': 4,\n",
       " 'Outdoor Shopping Mall': 1,\n",
       " 'Genesee Street': 1,\n",
       " 'Movie Theatre': 2,\n",
       " 'military facilities': 1,\n",
       " 'river forest': 1,\n",
       " 'birthday party': 1,\n",
       " 'liquor store': 1,\n",
       " 'opening of motorcycle season': 1,\n",
       " 'bridge': 1,\n",
       " 'street': 4,\n",
       " 'Gates Pub': 1,\n",
       " 'Village West Apartments': 1,\n",
       " 'Barber Shop': 1,\n",
       " 'Shopping Mall': 3,\n",
       " 'Pub': 1,\n",
       " 'Party Outside Home': 1,\n",
       " 'Home+Restaurant': 1,\n",
       " 'Multiple Homes': 2,\n",
       " 'Florida State University': 1,\n",
       " 'School Cafeteria': 1,\n",
       " 'Outside an auto shop': 1,\n",
       " 'Caf�+Walmart': 1,\n",
       " 'Seattle Pacific University': 1,\n",
       " 'Workplace': 8,\n",
       " 'Fort Hood Army Post': 3,\n",
       " 'Outside Club': 1,\n",
       " 'Los Angeles International Airport': 1,\n",
       " 'Sparks Middle School in Nevada': 1,\n",
       " 'Ross Township': 1,\n",
       " 'Apartment Complex': 2,\n",
       " 'Apartment': 1,\n",
       " 'Entrance of building': 1,\n",
       " 'Azana Spa in Brookfield': 1,\n",
       " 'Accent Signage Systems Building': 1,\n",
       " 'Sikh Temple': 1,\n",
       " 'Tulsa, Oklahoma': 1,\n",
       " 'Nursing Classroom': 1,\n",
       " 'Chardon High Scool': 1,\n",
       " 'Spa': 1,\n",
       " 'Hair Salon': 1,\n",
       " 'International House of Pancakes Restaurant': 1,\n",
       " 'Opelika campus of Southern Union State Community College in Alabama': 1,\n",
       " 'fraternity house party': 2,\n",
       " 'University of Alabama': 1,\n",
       " 'Coffee Shop': 2,\n",
       " 'American Civic Association Centre': 1,\n",
       " 'Nursing Home': 2,\n",
       " 'Dormitory': 1,\n",
       " 'South Mountain Community College': 1,\n",
       " 'Atlantis Plastics Factory': 1,\n",
       " 'Lecture Hall': 1,\n",
       " 'City Hall Building': 2,\n",
       " 'School Bus Stop': 1,\n",
       " 'Training Center+Church': 1,\n",
       " 'South Middle School in Saginaw, Michigan': 1,\n",
       " 'SuccessTech Academy': 1,\n",
       " 'School Campus': 1,\n",
       " 'Springwater Trail High School': 1,\n",
       " 'Trolley Square': 1,\n",
       " 'Bart Township': 2,\n",
       " 'Home+School': 7,\n",
       " 'Capitol Hill neighborhood of Seattle': 1,\n",
       " 'Goleta Post Office': 1,\n",
       " 'Smith County Courthouse': 1,\n",
       " 'forests of Birchwood': 1,\n",
       " 'Warehouse': 1,\n",
       " 'School': 3,\n",
       " 'University of Arizona': 1,\n",
       " 'Appalachian School of Law': 1,\n",
       " 'Santana High School': 1,\n",
       " 'Navistar in Melrose Park': 1,\n",
       " 'Edgewater Technology': 1,\n",
       " 'Fort Gibson Middle School': 1,\n",
       " 'Home+Stock Exchange Office': 1,\n",
       " 'Heritage High School': 1,\n",
       " 'Columbine High School': 1,\n",
       " 'Banquet Hall': 1,\n",
       " 'Health High School': 1,\n",
       " 'R.R. Phelon Company': 1,\n",
       " 'Bethel Regional High School': 1,\n",
       " 'San Diego State University': 1,\n",
       " 'Frontier Junior High School': 1,\n",
       " 'Richland High School': 1,\n",
       " 'Post Office in Montclair': 1,\n",
       " 'Wickliffe Middle School': 1,\n",
       " 'hospital': 1,\n",
       " 'Chelsea High School': 1,\n",
       " 'Chuck E. Cheese': 1,\n",
       " 'Train': 1,\n",
       " 'Central Middle School': 1,\n",
       " \"Luigi's Restaurant\": 1,\n",
       " 'Weber State University': 1,\n",
       " 'law firm': 1,\n",
       " \"Simon's Rock College of Bard\": 1,\n",
       " 'County Office Building': 1,\n",
       " 'Amarillo, Texas': 1,\n",
       " 'Lindhurst High School': 1,\n",
       " 'Post Office in Royal Oak': 1,\n",
       " 'University of lowa': 1,\n",
       " \"Luby's Cafeteria\": 1,\n",
       " 'Buddhist Monastery': 1,\n",
       " 'Standard Gravure printing company': 1,\n",
       " 'Cleveland Elementary School': 1,\n",
       " 'main post office in downtown New Orleans': 1,\n",
       " 'Oakland Elementary School': 1,\n",
       " 'ESL in Sunnyvale': 1,\n",
       " 'Fergus County High School': 1,\n",
       " 'Edmond, Oklahoma': 1,\n",
       " 'New York Technical College in Brooklyn': 1,\n",
       " 'Atlanta Post Office': 1,\n",
       " 'Goddard Junior High School': 1,\n",
       " \"McDonald's restaurant in San Ysidro\": 1,\n",
       " \"lanni's dance club\": 1,\n",
       " 'Johnston Post Office': 1,\n",
       " 'Wah Mee Gambling Club': 1,\n",
       " 'Valley High School': 1,\n",
       " 'California State University': 1,\n",
       " 'Los Angeles Computer School': 1,\n",
       " 'Clara Barton Elementary School': 1,\n",
       " 'Rose-Mar College of Beauty': 1,\n",
       " 'University of Texas': 1}"
      ]
     },
     "execution_count": 21,
     "metadata": {},
     "output_type": "execute_result"
    }
   ],
   "source": [
    "incidents = df.Incident_Area.dropna()\n",
    "incident_dict = {}\n",
    "for incident in incidents:\n",
    "    if incident in incident_dict:\n",
    "        incident_dict[incident] += 1\n",
    "    else:\n",
    "        incident_dict[incident] = 1\n",
    "incident_dict"
   ]
  },
  {
   "cell_type": "markdown",
   "metadata": {},
   "source": [
    "### Where did most mass shooting incidents take place?"
   ]
  },
  {
   "cell_type": "code",
   "execution_count": 22,
   "metadata": {},
   "outputs": [
    {
     "data": {
      "text/plain": [
       "('Home', 43)"
      ]
     },
     "execution_count": 22,
     "metadata": {},
     "output_type": "execute_result"
    }
   ],
   "source": [
    "maximum_incident = max(incident_dict, key=incident_dict.get)\n",
    "(maximum_incident, incident_dict[maximum_incident])"
   ]
  },
  {
   "cell_type": "markdown",
   "metadata": {},
   "source": [
    "### What location has the highest number of Mass Shootings?"
   ]
  },
  {
   "cell_type": "code",
   "execution_count": 23,
   "metadata": {},
   "outputs": [
    {
     "data": {
      "text/plain": [
       "('Seattle, Washington', 5)"
      ]
     },
     "execution_count": 23,
     "metadata": {},
     "output_type": "execute_result"
    }
   ],
   "source": [
    "locations = df.Location.dropna()\n",
    "locations_dict = {}\n",
    "for location in locations:\n",
    "    if location in locations_dict:\n",
    "        locations_dict[location] += 1\n",
    "    else:\n",
    "        locations_dict[location] = 1\n",
    "maximum = max(locations_dict, key=locations_dict.get)\n",
    "(maximum, locations_dict[maximum])"
   ]
  },
  {
   "cell_type": "code",
   "execution_count": 24,
   "metadata": {},
   "outputs": [],
   "source": [
    "terrorist_count = len((df[df['Cause'] == 'terrorism']))"
   ]
  },
  {
   "cell_type": "markdown",
   "metadata": {},
   "source": [
    "### Percentage of all mass murders that were terror related"
   ]
  },
  {
   "cell_type": "code",
   "execution_count": 25,
   "metadata": {
    "scrolled": true
   },
   "outputs": [
    {
     "data": {
      "text/plain": [
       "0.20123839009287925"
      ]
     },
     "execution_count": 25,
     "metadata": {},
     "output_type": "execute_result"
    }
   ],
   "source": [
    "terrorist_count/all"
   ]
  },
  {
   "cell_type": "markdown",
   "metadata": {},
   "source": [
    "###  Graph May make you notice something here.\n"
   ]
  },
  {
   "cell_type": "code",
   "execution_count": 26,
   "metadata": {},
   "outputs": [
    {
     "data": {
      "image/png": "[encoded data removed]",
      "text/plain": [
       "<Figure size 432x288 with 1 Axes>"
      ]
     },
     "metadata": {
      "needs_background": "light"
     },
     "output_type": "display_data"
    }
   ],
   "source": [
    "# df.plot.scatter(x='Fatalities', y=\"Total_victims\")\n",
    "plt.plot(df['Fatalities'], df['Total_victims'], \"ro\")\n",
    "plt.ylim(0, 150)\n",
    "plt.ylabel('Total Victims')\n",
    "plt.xlabel('Fatalities')\n",
    "plt.show()\n"
   ]
  },
  {
   "cell_type": "markdown",
   "metadata": {},
   "source": [
    "### And Correlations investigated from seeing that graph, Yes."
   ]
  },
  {
   "cell_type": "code",
   "execution_count": 36,
   "metadata": {
    "scrolled": true
   },
   "outputs": [
    {
     "name": "stdout",
     "output_type": "stream",
     "text": [
      "0.7061400772811167\n"
     ]
    },
    {
     "data": {
      "image/png": "[encoded data removed]",
      "text/plain": [
       "<Figure size 432x288 with 2 Axes>"
      ]
     },
     "metadata": {
      "needs_background": "light"
     },
     "output_type": "display_data"
    }
   ],
   "source": [
    "import numpy as np\n",
    "\n",
    "df1 = df.drop(columns=['S#', 'Title', 'Location', 'Date', 'Incident_Area',\n",
    "       'Open/Close Location', 'Target', 'Cause', 'Summary', 'Policeman Killed', 'Age',\n",
    "       'Employeed (Y/N)', 'Employed at', 'Mental_Health_Issues', 'Race',\n",
    "       'Gender', 'Latitude', 'Longitude'])\n",
    "sns.heatmap(df1.corr(), annot=True)\n",
    "def pearson_corr(x, y):\n",
    "    x_mean, y_mean  = np.mean(x), np.mean(y)\n",
    "\n",
    "    num = []\n",
    "    den_1 = []\n",
    "    den_2 = []\n",
    "    for i, j in zip(x,y):\n",
    "        num.append((i - x_mean) * (j - y_mean))\n",
    "    for i in x:\n",
    "        den_1.append((i - x_mean) **2)\n",
    "    for j in y:\n",
    "        den_2.append((j - y_mean) **2)\n",
    "    correlation_x_y = np.sum(num)/np.sqrt(np.sum(den_1))/np.sqrt(np.sum(den_2))\n",
    "    return correlation_x_y\n",
    "\n",
    "print(pearson_corr(df1['Fatalities'], df1['Total_victims']))\n",
    "# print(scipy.stats.pearsonr(df['SepalLengthCm'], df['PetalLengthCm']))\n",
    "        \n",
    "        "
   ]
  },
  {
   "cell_type": "code",
   "execution_count": 38,
   "metadata": {},
   "outputs": [
    {
     "data": {
      "text/plain": [
       "Index(['S#', 'Title', 'Location', 'Date', 'Incident_Area',\n",
       "       'Open/Close Location', 'Target', 'Cause', 'Summary', 'Fatalities',\n",
       "       'Injured', 'Total_victims', 'Policeman Killed', 'Age',\n",
       "       'Employeed (Y/N)', 'Employed at', 'Mental_Health_Issues', 'Race',\n",
       "       'Gender', 'Latitude', 'Longitude'],\n",
       "      dtype='object')"
      ]
     },
     "execution_count": 38,
     "metadata": {},
     "output_type": "execute_result"
    }
   ],
   "source": [
    "df.columns.unique()"
   ]
  },
  {
   "cell_type": "code",
   "execution_count": 43,
   "metadata": {},
   "outputs": [
    {
     "data": {
      "text/plain": [
       "3"
      ]
     },
     "execution_count": 43,
     "metadata": {},
     "output_type": "execute_result"
    }
   ],
   "source": [
    "min((df['Total_victims']))"
   ]
  },
  {
   "cell_type": "code",
   "execution_count": 44,
   "metadata": {},
   "outputs": [
    {
     "data": {
      "text/plain": [
       "585"
      ]
     },
     "execution_count": 44,
     "metadata": {},
     "output_type": "execute_result"
    }
   ],
   "source": [
    "max((df['Total_victims']))"
   ]
  },
  {
   "cell_type": "code",
   "execution_count": 45,
   "metadata": {},
   "outputs": [
    {
     "data": {
      "text/plain": [
       "0"
      ]
     },
     "execution_count": 45,
     "metadata": {},
     "output_type": "execute_result"
    }
   ],
   "source": [
    "min((df['Fatalities']))"
   ]
  },
  {
   "cell_type": "code",
   "execution_count": 46,
   "metadata": {},
   "outputs": [
    {
     "data": {
      "text/plain": [
       "59"
      ]
     },
     "execution_count": 46,
     "metadata": {},
     "output_type": "execute_result"
    }
   ],
   "source": [
    "max((df['Fatalities']))"
   ]
  },
  {
   "cell_type": "code",
   "execution_count": null,
   "metadata": {},
   "outputs": [],
   "source": [
    "TIL Slack is an acronym.\n",
    " Searchable Log of All Conversation and KnowledgeTIL Slack is an acronym.\n",
    " Searchable Log of All Conversation and KnowledgeTIL Slack is an acronym.\n",
    " Searchable Log of All Conversation and Knowledge"
   ]
  }
 ],
 "metadata": {
  "kernelspec": {
   "display_name": "Python 3",
   "language": "python",
   "name": "python3"
  },
  "language_info": {
   "codemirror_mode": {
    "name": "ipython",
    "version": 3
   },
   "file_extension": ".py",
   "mimetype": "text/x-python",
   "name": "python",
   "nbconvert_exporter": "python",
   "pygments_lexer": "ipython3",
   "version": "3.7.3"
  }
 },
 "nbformat": 4,
 "nbformat_minor": 2
}
